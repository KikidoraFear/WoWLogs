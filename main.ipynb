{
 "cells": [
  {
   "cell_type": "code",
   "execution_count": 108,
   "id": "df3947b0-e82f-4431-86f0-559750b66a5e",
   "metadata": {},
   "outputs": [],
   "source": [
    "import pandas as pd\n",
    "import os\n",
    "import re\n",
    "import datetime\n",
    "import time"
   ]
  },
  {
   "cell_type": "code",
   "execution_count": 109,
   "id": "4de54a6a-8d97-466f-b609-5fbe35f8c6dd",
   "metadata": {},
   "outputs": [],
   "source": [
    "folder = r\"240310_Nax\""
   ]
  },
  {
   "cell_type": "code",
   "execution_count": 110,
   "id": "82f35110-de79-4be5-a787-21b79081435f",
   "metadata": {},
   "outputs": [],
   "source": [
    "# patterns_heal = [ # As of Python version 3.7, dictionaries are ordered\n",
    "#     [\"HEALEDCRITOTHEROTHER\", \"%s's %s critically heals %s for %d.\", (source, attack, target, value)],\n",
    "#     \"HEALEDCRITOTHERSELF\": \"%s's %s critically heals you for %d.\",\n",
    "#     \"HEALEDCRITSELFOTHER\": \"Your %s critically heals %s for %d.\",\n",
    "#     \"HEALEDCRITSELFSELF\": \"Your %s critically heals you for %d.\",\n",
    "#     \"HEALEDOTHEROTHER\": \"%s's %s heals %s for %d.\",\n",
    "#     \"HEALEDOTHERSELF\": \"%s's %s heals you for %d.\",\n",
    "#     \"HEALEDSELFOTHER\": \"Your %s heals %s for %d.\",\n",
    "#     \"HEALEDSELFSELF\": \"Your %s heals you for %d.\",\n",
    "# ]\n",
    "patterns_aura = [\n",
    "    [\"AURAADDEDOTHERHARMFUL\", \"%s is afflicted by %s.\", (\"target\", \"attack\")],\n",
    "    [\"AURAADDEDOTHERHELPFUL\", \"%s gains %s.\", (\"target\", \"attack\")],\n",
    "    [\"AURAADDEDSELFHARMFUL\", \"You are afflicted by %s.\", (\"attack\")],\n",
    "    [\"AURAADDEDSELFHELPFUL\", \"You gain %s.\", (\"attack\")]\n",
    "]"
   ]
  },
  {
   "cell_type": "code",
   "execution_count": 111,
   "id": "8bbd097e-5ddd-4501-a9bf-1a64f6a10571",
   "metadata": {},
   "outputs": [],
   "source": [
    "def PreparePattern(pattern):\n",
    "    pattern = pattern.replace(\"%s\", \"(.+)\")\n",
    "    pattern = pattern.replace(\"%d\", \"(\\d+)\")\n",
    "    return pattern"
   ]
  },
  {
   "cell_type": "code",
   "execution_count": 112,
   "id": "3e5c4e1e-bbb8-4d79-ad5d-c82c06814bdb",
   "metadata": {},
   "outputs": [],
   "source": [
    "def ParseTimeStamp(line):\n",
    "    pattern = r\"(\\d+)/(\\d+) (\\d+):(\\d+):(\\d+).(\\d+)  (.*)\"\n",
    "    match = re.search(pattern, line)\n",
    "    year = 2024\n",
    "    month = int(match.group(1))\n",
    "    day = int(match.group(2))\n",
    "    hour = int(match.group(3))\n",
    "    minute = int(match.group(4))\n",
    "    second = int(match.group(5))\n",
    "    millisecond = int(match.group(6))\n",
    "    rem = match.group(7)\n",
    "    date_time = datetime.datetime(year,month,day,hour,minute,second)\n",
    "    timestamp = time.mktime(date_time.timetuple())+millisecond/1000\n",
    "    \n",
    "    return rem, timestamp"
   ]
  },
  {
   "cell_type": "code",
   "execution_count": 134,
   "id": "c3ba3ed1-7e34-4fe5-9a98-633e2922bb70",
   "metadata": {},
   "outputs": [],
   "source": [
    "def ParseCombatLog(line, pattern_data):\n",
    "    line_data = {\n",
    "        \"source\": None,\n",
    "        \"target\": None,\n",
    "        \"attack\": None,\n",
    "        \"value\": None\n",
    "    }\n",
    "    for pattern_dict in pattern_data:\n",
    "        pattern = pattern_dict[1]\n",
    "        pattern = PreparePattern(pattern)\n",
    "        match = re.search(pattern, line)\n",
    "        if match:\n",
    "            for idx, kind in enumerate(pattern_dict[2]):\n",
    "                line_data[kind] = match.group(idx+1)\n",
    "            return line_data\n",
    "    print(\"### Couldnt find matching pattern for: \", line)\n",
    "    return line_data"
   ]
  },
  {
   "cell_type": "code",
   "execution_count": 135,
   "id": "3c504d47-ad6a-4564-905d-ca8373a98b1f",
   "metadata": {},
   "outputs": [
    {
     "name": "stdout",
     "output_type": "stream",
     "text": [
      "Reading  240310_Nax\\WoWCombatLog_Kikidora.txt\n",
      "3/10 19:02:35.473  Pestilentia gains Greater Blessing of Salvation.\n",
      "\n",
      "1710093755.473\n",
      "{'source': None, 'target': 'Pestilentia', 'attack': 'Greater Blessing of Salvation', 'value': None}\n",
      "3/10 19:02:35.473  Baldnic gains Greater Blessing of Salvation.\n",
      "\n",
      "1710093755.473\n",
      "{'source': None, 'target': 'Baldnic', 'attack': 'Greater Blessing of Salvation', 'value': None}\n",
      "3/10 19:02:35.475  Receptor gains Greater Blessing of Salvation.\n",
      "\n",
      "1710093755.475\n",
      "{'source': None, 'target': 'Receptor', 'attack': 'Greater Blessing of Salvation', 'value': None}\n",
      "3/10 19:02:35.783  Aspect of the Cheetah fades from Whiskeytango.\n",
      "\n",
      "1710093755.783\n",
      "### Couldnt find matching pattern for:  Aspect of the Cheetah fades from Whiskeytango.\n",
      "{'source': None, 'target': None, 'attack': None, 'value': None}\n",
      "3/10 19:02:35.783  Whiskeytango gains Aspect of the Hawk.\n",
      "\n",
      "1710093755.783\n",
      "{'source': None, 'target': 'Whiskeytango', 'attack': 'Aspect of the Hawk', 'value': None}\n",
      "3/10 19:02:36.336  Baldnic gains 122 Mana from Baldnic's Fel Energy.\n",
      "\n",
      "1710093756.336\n",
      "{'source': None, 'target': 'Baldnic', 'attack': \"122 Mana from Baldnic's Fel Energy\", 'value': None}\n",
      "3/10 19:02:36.849  Brotuz gains Greater Blessing of Wisdom.\n",
      "\n",
      "1710093756.849\n",
      "{'source': None, 'target': 'Brotuz', 'attack': 'Greater Blessing of Wisdom', 'value': None}\n",
      "3/10 19:02:36.850  Thebest gains Greater Blessing of Wisdom.\n",
      "\n",
      "1710093756.85\n",
      "{'source': None, 'target': 'Thebest', 'attack': 'Greater Blessing of Wisdom', 'value': None}\n",
      "3/10 19:02:36.850  Asterixs gains Greater Blessing of Wisdom.\n",
      "\n",
      "1710093756.85\n",
      "{'source': None, 'target': 'Asterixs', 'attack': 'Greater Blessing of Wisdom', 'value': None}\n",
      "3/10 19:02:36.850  Zabrien gains Greater Blessing of Wisdom.\n",
      "\n",
      "1710093756.85\n",
      "{'source': None, 'target': 'Zabrien', 'attack': 'Greater Blessing of Wisdom', 'value': None}\n",
      "3/10 19:02:36.850  Milkywaay gains Greater Blessing of Wisdom.\n",
      "\n",
      "1710093756.85\n",
      "{'source': None, 'target': 'Milkywaay', 'attack': 'Greater Blessing of Wisdom', 'value': None}\n"
     ]
    }
   ],
   "source": [
    "filepaths = [os.path.join(folder, f) for f in os.listdir(folder)]\n",
    "df_auras = pd.DataFrame()\n",
    "for filepath in filepaths:\n",
    "    print(\"Reading \", filepath)\n",
    "    file = open(filepath, 'r')\n",
    "    lines = file.readlines()\n",
    "    cnt = 0\n",
    "    for line in lines:\n",
    "        print(line)\n",
    "        rem, timestamp = ParseTimeStamp(line)\n",
    "        print(timestamp)\n",
    "        data = ParseCombatLog(rem, patterns_aura)\n",
    "        print(data)\n",
    "        cnt = cnt+1\n",
    "        if cnt > 10:\n",
    "            break\n",
    "    break"
   ]
  },
  {
   "cell_type": "code",
   "execution_count": null,
   "id": "bb6e3ef3-991f-4879-8864-604c423ab8a0",
   "metadata": {},
   "outputs": [],
   "source": []
  }
 ],
 "metadata": {
  "kernelspec": {
   "display_name": "Python 3 (ipykernel)",
   "language": "python",
   "name": "python3"
  },
  "language_info": {
   "codemirror_mode": {
    "name": "ipython",
    "version": 3
   },
   "file_extension": ".py",
   "mimetype": "text/x-python",
   "name": "python",
   "nbconvert_exporter": "python",
   "pygments_lexer": "ipython3",
   "version": "3.11.2"
  }
 },
 "nbformat": 4,
 "nbformat_minor": 5
}
