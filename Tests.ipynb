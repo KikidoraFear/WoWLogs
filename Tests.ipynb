{
 "cells": [
  {
   "cell_type": "code",
   "execution_count": 1,
   "id": "09dfb40a-2f6a-4c9a-be2a-9d041706410d",
   "metadata": {},
   "outputs": [],
   "source": [
    "dict_line = {\n",
    "    \"data_source\": \"Test\",\n",
    "    \"timestamp\": [1,2,3,4],\n",
    "    \"valid\": None\n",
    "}\n",
    "dict_log = {}\n",
    "dict_log[\"Test\"] = {\n",
    "    \"Test line\": dict_line\n",
    "}"
   ]
  },
  {
   "cell_type": "code",
   "execution_count": 3,
   "id": "5dd82652-f823-4715-a1c6-32e57898f894",
   "metadata": {},
   "outputs": [
    {
     "name": "stdout",
     "output_type": "stream",
     "text": [
      "0 data_source\n",
      "1 timestamp\n",
      "2 valid\n"
     ]
    }
   ],
   "source": [
    "for idx, key in enumerate(dict_line):\n",
    "    print(idx, key)"
   ]
  },
  {
   "cell_type": "code",
   "execution_count": 20,
   "id": "bb84733e-757d-498a-b4de-e874f8d1d420",
   "metadata": {},
   "outputs": [
    {
     "name": "stdout",
     "output_type": "stream",
     "text": [
      "[1, 2, 3, 4]\n"
     ]
    }
   ],
   "source": [
    "print(dict_log[\"Test\"][\"Test line\"][\"timestamp\"])"
   ]
  },
  {
   "cell_type": "code",
   "execution_count": 21,
   "id": "bdc4a543-e32b-410f-84cb-c1d95e0ad36e",
   "metadata": {},
   "outputs": [
    {
     "name": "stdout",
     "output_type": "stream",
     "text": [
      "[1, 2, 3, 4]\n"
     ]
    }
   ],
   "source": [
    "dict_log[\"master\"] = dict(dict_log[\"Test\"])\n",
    "print(dict_log[\"master\"][\"Test line\"][\"timestamp\"])"
   ]
  },
  {
   "cell_type": "code",
   "execution_count": 22,
   "id": "38026586-06d6-4761-baf6-df9acbf4f177",
   "metadata": {},
   "outputs": [],
   "source": [
    "dict_log[\"master\"][\"Test line\"][\"timestamp\"].append(5)"
   ]
  },
  {
   "cell_type": "code",
   "execution_count": 23,
   "id": "822216a6-4780-4d23-ab92-894749405134",
   "metadata": {},
   "outputs": [
    {
     "name": "stdout",
     "output_type": "stream",
     "text": [
      "[1, 2, 3, 4, 5]\n",
      "[1, 2, 3, 4, 5]\n"
     ]
    }
   ],
   "source": [
    "print(dict_log[\"Test\"][\"Test line\"][\"timestamp\"])\n",
    "print(dict_log[\"master\"][\"Test line\"][\"timestamp\"])"
   ]
  },
  {
   "cell_type": "code",
   "execution_count": 24,
   "id": "473078e7-2e6e-4be1-9de6-910f0bcb7ba0",
   "metadata": {},
   "outputs": [
    {
     "name": "stdout",
     "output_type": "stream",
     "text": [
      "{'Test': {'Test line': {'data_source': 'Test', 'timestamp': [1, 2, 3, 4, 5], 'valid': None}}, 'master': {'Test line': {'data_source': 'Test', 'timestamp': [1, 2, 3, 4, 5], 'valid': None}}}\n"
     ]
    }
   ],
   "source": [
    "print(dict_log)"
   ]
  },
  {
   "cell_type": "code",
   "execution_count": 25,
   "id": "65bd14a8-ccbf-4a03-92e1-3d9bd31c2d61",
   "metadata": {},
   "outputs": [],
   "source": [
    "dict_log = {}"
   ]
  },
  {
   "cell_type": "code",
   "execution_count": 26,
   "id": "625cdce5-bf0c-439a-8a7d-9b87b7a2baea",
   "metadata": {},
   "outputs": [
    {
     "name": "stdout",
     "output_type": "stream",
     "text": [
      "{}\n"
     ]
    }
   ],
   "source": [
    "print(dict_log)"
   ]
  },
  {
   "cell_type": "code",
   "execution_count": null,
   "id": "1c6b20f6-58db-4117-b79b-a5d3bce1bade",
   "metadata": {},
   "outputs": [],
   "source": [
    "timestamps_line"
   ]
  },
  {
   "cell_type": "code",
   "execution_count": 28,
   "id": "c33a70ad-fdea-49bc-9d62-2c25f75e14cd",
   "metadata": {},
   "outputs": [
    {
     "ename": "KeyError",
     "evalue": "'Test'",
     "output_type": "error",
     "traceback": [
      "\u001b[1;31m---------------------------------------------------------------------------\u001b[0m",
      "\u001b[1;31mKeyError\u001b[0m                                  Traceback (most recent call last)",
      "Cell \u001b[1;32mIn[28], line 1\u001b[0m\n\u001b[1;32m----> 1\u001b[0m \u001b[43mdict_log\u001b[49m\u001b[43m[\u001b[49m\u001b[38;5;124;43m\"\u001b[39;49m\u001b[38;5;124;43mTest\u001b[39;49m\u001b[38;5;124;43m\"\u001b[39;49m\u001b[43m]\u001b[49m\n",
      "\u001b[1;31mKeyError\u001b[0m: 'Test'"
     ]
    }
   ],
   "source": [
    "dict_log[\"Test\"]"
   ]
  },
  {
   "cell_type": "code",
   "execution_count": 29,
   "id": "ea1f1149-6898-4b3c-a7c1-1e0320427d52",
   "metadata": {},
   "outputs": [
    {
     "ename": "KeyError",
     "evalue": "'Test'",
     "output_type": "error",
     "traceback": [
      "\u001b[1;31m---------------------------------------------------------------------------\u001b[0m",
      "\u001b[1;31mKeyError\u001b[0m                                  Traceback (most recent call last)",
      "Cell \u001b[1;32mIn[29], line 1\u001b[0m\n\u001b[1;32m----> 1\u001b[0m \u001b[38;5;28mlen\u001b[39m(\u001b[43mdict_log\u001b[49m\u001b[43m[\u001b[49m\u001b[38;5;124;43m\"\u001b[39;49m\u001b[38;5;124;43mTest\u001b[39;49m\u001b[38;5;124;43m\"\u001b[39;49m\u001b[43m]\u001b[49m)\n",
      "\u001b[1;31mKeyError\u001b[0m: 'Test'"
     ]
    }
   ],
   "source": [
    "len(dict_log[\"Test\"])"
   ]
  },
  {
   "cell_type": "code",
   "execution_count": 43,
   "id": "536ea396-8a0e-46e3-b081-ca243f9400a3",
   "metadata": {},
   "outputs": [],
   "source": [
    "import numpy as np\n",
    "import pandas as pd"
   ]
  },
  {
   "cell_type": "code",
   "execution_count": 44,
   "id": "9f60e28a-7ab6-4bb8-a934-e7599bb3417c",
   "metadata": {},
   "outputs": [],
   "source": [
    "df = pd.DataFrame()\n",
    "df.loc[\"a0\",\"Test\"] = 1\n",
    "df.loc[\"a1\",\"Test\"] = 2\n",
    "df.loc[\"a2\",\"Test\"] = 3\n",
    "df.loc[\"a3\",\"Test\"] = 4\n",
    "df.loc[\"a0\",\"Test1\"] = 10\n",
    "df.loc[\"a1\",\"Test1\"] = 20\n",
    "df.loc[\"a2\",\"Test1\"] = 30\n",
    "df.loc[\"a3\",\"Test1\"] = 40"
   ]
  },
  {
   "cell_type": "code",
   "execution_count": 47,
   "id": "c1fb0b44-7356-40a0-982a-0903e072d83f",
   "metadata": {},
   "outputs": [
    {
     "data": {
      "text/plain": [
       "array([[ 1.,  2.,  3.,  4.],\n",
       "       [10., 20., 30., 40.]])"
      ]
     },
     "execution_count": 47,
     "metadata": {},
     "output_type": "execute_result"
    }
   ],
   "source": [
    "np.array([df[\"Test\"],df[\"Test1\"]])"
   ]
  },
  {
   "cell_type": "code",
   "execution_count": 39,
   "id": "74907f00-0780-42e7-b8ba-5f23d0cc56d2",
   "metadata": {},
   "outputs": [
    {
     "data": {
      "text/plain": [
       "array([1., 2., 3., 4.])"
      ]
     },
     "execution_count": 39,
     "metadata": {},
     "output_type": "execute_result"
    }
   ],
   "source": [
    "df[\"Test\"].unique()"
   ]
  },
  {
   "cell_type": "code",
   "execution_count": null,
   "id": "e81959a3-ee64-41ab-bc64-278948c2ac2c",
   "metadata": {},
   "outputs": [],
   "source": []
  }
 ],
 "metadata": {
  "kernelspec": {
   "display_name": "Python 3 (ipykernel)",
   "language": "python",
   "name": "python3"
  },
  "language_info": {
   "codemirror_mode": {
    "name": "ipython",
    "version": 3
   },
   "file_extension": ".py",
   "mimetype": "text/x-python",
   "name": "python",
   "nbconvert_exporter": "python",
   "pygments_lexer": "ipython3",
   "version": "3.11.2"
  }
 },
 "nbformat": 4,
 "nbformat_minor": 5
}
